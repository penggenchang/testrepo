{
 "cells": [
  {
   "cell_type": "markdown",
   "id": "189a0eed-9c01-4b8a-b510-c8f37e89d49a",
   "metadata": {},
   "source": [
    "## H2 heading. Below are the the final assignment"
   ]
  },
  {
   "cell_type": "markdown",
   "id": "0951a8e1-0884-48b3-83be-b75e7e2dd729",
   "metadata": {},
   "source": [
    "# excersise 3 - introduction\n",
    "In this notebook, data science tolls and ecosystems are summarized.  \n"
   ]
  },
  {
   "cell_type": "markdown",
   "id": "2b05230a-faa1-4068-92f9-bf087433dc20",
   "metadata": {},
   "source": [
    "## exercise 10 - list popular languages for data science\n",
    "**Objectives:**\n",
    "- Python\n",
    "- R\n",
    "- sql\n",
    "- julia"
   ]
  },
  {
   "cell_type": "code",
   "execution_count": null,
   "id": "f67f7d85-9f4d-4820-abc2-0d47e12fb3ae",
   "metadata": {},
   "outputs": [],
   "source": [
    "# excercise 4 - data science language\n",
    "some of the popular languages:\n",
    "Python, R and SQL"
   ]
  },
  {
   "cell_type": "code",
   "execution_count": null,
   "id": "85915dd8-5820-49a6-8ef7-68f9ae44fb7d",
   "metadata": {},
   "outputs": [],
   "source": [
    "# exercise 5 - data science libraries:\n",
    "Some of the commonly used libraries used by Data Scientists include:  \n",
    "Pandas, Scikit-learn, ggplotlib,"
   ]
  },
  {
   "cell_type": "markdown",
   "id": "1ac5b3d4-42a9-4919-89ac-97df8878e85b",
   "metadata": {},
   "source": [
    "# exercise 6 - markdown tables:\n",
    "data science libraries in table:\n",
    "| Python | R |\n",
    "| ----- | ----- |\n",
    "| Scikit-learn | caret |\n",
    "|  matplotlib | ggplot |"
   ]
  },
  {
   "cell_type": "markdown",
   "id": "d09b568d-97c4-430b-b765-494cfe475f7f",
   "metadata": {},
   "source": [
    "# exercise 7 - arithmatic\n",
    "Below are a few examples of evaluating arithmetic expressions in Python"
   ]
  },
  {
   "cell_type": "code",
   "execution_count": 11,
   "id": "d6c31d89-4f22-4c52-a8d8-8ead108ac596",
   "metadata": {},
   "outputs": [
    {
     "data": {
      "text/plain": [
       "17"
      ]
     },
     "execution_count": 11,
     "metadata": {},
     "output_type": "execute_result"
    }
   ],
   "source": [
    "# exercise 8 - multi and add inter\n",
    "## This is a simple arithmetic to multiply then add integers\n",
    "(3*4) + 5"
   ]
  },
  {
   "cell_type": "code",
   "execution_count": 18,
   "id": "ec991227-3d08-4a78-b8d9-3920a188034b",
   "metadata": {},
   "outputs": [
    {
     "name": "stdout",
     "output_type": "stream",
     "text": [
      "hours is: 3 minute is: 20\n"
     ]
    }
   ],
   "source": [
    "# exercise 9 - minutes into hours\n",
    "## This will convert 200 minutes to hours by diving by 60\n",
    "hours = 200 // 60 ## quotient\n",
    "minutes = 200%60\n",
    "print(\"hours is:\",hours, \"minute is:\",minutes)"
   ]
  },
  {
   "cell_type": "markdown",
   "id": "f0b71ba0-4dc4-4e25-b748-b05a2ec60431",
   "metadata": {},
   "source": [
    "# exercise 11 - indicate authors' name\n",
    "## Author:  \n",
    "Dr. Genchang Peng"
   ]
  },
  {
   "cell_type": "code",
   "execution_count": null,
   "id": "84cdce92-7acd-4f00-85ff-91299e26f640",
   "metadata": {},
   "outputs": [],
   "source": []
  }
 ],
 "metadata": {
  "kernelspec": {
   "display_name": "Python 3 (ipykernel)",
   "language": "python",
   "name": "python3"
  },
  "language_info": {
   "codemirror_mode": {
    "name": "ipython",
    "version": 3
   },
   "file_extension": ".py",
   "mimetype": "text/x-python",
   "name": "python",
   "nbconvert_exporter": "python",
   "pygments_lexer": "ipython3",
   "version": "3.12.7"
  }
 },
 "nbformat": 4,
 "nbformat_minor": 5
}
